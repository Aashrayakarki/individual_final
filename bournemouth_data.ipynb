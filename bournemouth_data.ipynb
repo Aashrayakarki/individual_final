{
 "cells": [
  {
   "cell_type": "code",
   "execution_count": 2,
   "id": "a1b299d8-1840-457a-b7d4-b325fcd5f660",
   "metadata": {},
   "outputs": [],
   "source": [
    "import pandas as pd\n",
    "from unidecode import unidecode\n",
    "import requests\n",
    "from io import StringIO"
   ]
  },
  {
   "cell_type": "code",
   "execution_count": 4,
   "id": "de8a93a9-e312-4bc1-ba8b-4ea981b1a561",
   "metadata": {},
   "outputs": [],
   "source": [
    "url = 'https://fbref.com/en/squads/4ba7cbea/2023-2024/Bournemouth-Stats#all_stats_defense'\n",
    "html_content = requests.get(url).text.replace('<!--', '').replace('-->', '')\n",
    "df = pd.read_html(StringIO(html_content))"
   ]
  },
  {
   "cell_type": "code",
   "execution_count": 14,
   "id": "da22eb22-8f2a-446e-9369-63526206fda1",
   "metadata": {},
   "outputs": [],
   "source": [
    "df[8].columns=df[8].columns.droplevel(0)"
   ]
  },
  {
   "cell_type": "code",
   "execution_count": 16,
   "id": "f4ca1b4d-0914-4012-85e0-fa7fb343e6dc",
   "metadata": {},
   "outputs": [],
   "source": [
    "data = df[8]"
   ]
  },
  {
   "cell_type": "code",
   "execution_count": 22,
   "id": "3df522ec-1300-414e-95a8-0eb663c76685",
   "metadata": {},
   "outputs": [],
   "source": [
    "data = data.iloc[:-2]"
   ]
  },
  {
   "cell_type": "code",
   "execution_count": 26,
   "id": "8222745a-2ee6-4544-97db-747e41988933",
   "metadata": {},
   "outputs": [],
   "source": [
    "df_after_column_removal=data.drop(columns=['Sh', 'Pass', 'Err', 'Matches'])"
   ]
  },
  {
   "cell_type": "code",
   "execution_count": 28,
   "id": "e6000798-65ed-4f6a-948f-2579e2438e18",
   "metadata": {},
   "outputs": [],
   "source": [
    "data1 = df_after_column_removal[df_after_column_removal['Pos'] == 'DF']"
   ]
  },
  {
   "cell_type": "code",
   "execution_count": 38,
   "id": "bc42d701-83fd-45d9-ba5a-ea741b2d5e92",
   "metadata": {},
   "outputs": [],
   "source": [
    "data1 = data1[data1['90s'] >= 24.0]"
   ]
  },
  {
   "cell_type": "code",
   "execution_count": 42,
   "id": "88d4b959-6f28-4c07-a95b-3eb9deb15b97",
   "metadata": {},
   "outputs": [],
   "source": [
    "finaldf = data1"
   ]
  },
  {
   "cell_type": "code",
   "execution_count": 44,
   "id": "6c16eefb-a654-4c96-94c3-0f338c8f5dd8",
   "metadata": {},
   "outputs": [],
   "source": [
    "finaldf=finaldf.drop(columns=['Att', 'Tkl', 'Lost'])"
   ]
  },
  {
   "cell_type": "code",
   "execution_count": 48,
   "id": "5c1f48c3-3bb7-4efb-bce2-c6c83c1c2a49",
   "metadata": {},
   "outputs": [],
   "source": [
    "finaldf['TklW']=finaldf['TklW']/finaldf['90s']\n",
    "finaldf['Def 3rd']=finaldf['Def 3rd']/finaldf['90s']\n",
    "finaldf['Mid 3rd']=finaldf['Mid 3rd']/finaldf['90s']\n",
    "finaldf['Att 3rd']=finaldf['Att 3rd']/finaldf['90s']\n",
    "finaldf['Blocks']=finaldf['Blocks']/finaldf['90s']\n",
    "finaldf['Int']=finaldf['Int']/finaldf['90s']\n",
    "finaldf['Tkl+Int']=finaldf['Tkl+Int']/finaldf['90s']\n",
    "finaldf['Clr']=finaldf['Clr']/finaldf['90s']"
   ]
  },
  {
   "cell_type": "code",
   "execution_count": 54,
   "id": "d64e4887-4420-4e9b-b1f5-dfaa3fb4e4d0",
   "metadata": {},
   "outputs": [],
   "source": [
    "finaldf['Player']=finaldf['Player'].apply(unidecode)"
   ]
  },
  {
   "cell_type": "code",
   "execution_count": 60,
   "id": "ec3916a3-3b03-447f-badd-4ccda3a41769",
   "metadata": {},
   "outputs": [],
   "source": [
    "Arg = (finaldf['Nation'] == 'ar ARG')\n",
    "finaldf.loc[Arg, 'Nation'] = 'Argentina'\n",
    "\n",
    "Ukr = (finaldf['Nation'] == 'ua UKR')\n",
    "finaldf.loc[Ukr, 'Nation'] = 'Ukraine'\n"
   ]
  },
  {
   "cell_type": "code",
   "execution_count": 66,
   "id": "b5d1c26a-98f9-43b7-b2c5-f2d4ef9ec5e8",
   "metadata": {},
   "outputs": [],
   "source": [
    "finaldf.insert(0, 'SN', range(1, len(finaldf) + 1))"
   ]
  },
  {
   "cell_type": "code",
   "execution_count": 68,
   "id": "351f8442-9d33-425e-a767-c4403205cd02",
   "metadata": {},
   "outputs": [
    {
     "data": {
      "text/html": [
       "<div>\n",
       "<style scoped>\n",
       "    .dataframe tbody tr th:only-of-type {\n",
       "        vertical-align: middle;\n",
       "    }\n",
       "\n",
       "    .dataframe tbody tr th {\n",
       "        vertical-align: top;\n",
       "    }\n",
       "\n",
       "    .dataframe thead th {\n",
       "        text-align: right;\n",
       "    }\n",
       "</style>\n",
       "<table border=\"1\" class=\"dataframe\">\n",
       "  <thead>\n",
       "    <tr style=\"text-align: right;\">\n",
       "      <th></th>\n",
       "      <th>SN</th>\n",
       "      <th>Player</th>\n",
       "      <th>Nation</th>\n",
       "      <th>Pos</th>\n",
       "      <th>Age</th>\n",
       "      <th>90s</th>\n",
       "      <th>TklW</th>\n",
       "      <th>Def 3rd</th>\n",
       "      <th>Mid 3rd</th>\n",
       "      <th>Att 3rd</th>\n",
       "      <th>Tkl%</th>\n",
       "      <th>Blocks</th>\n",
       "      <th>Int</th>\n",
       "      <th>Tkl+Int</th>\n",
       "      <th>Clr</th>\n",
       "    </tr>\n",
       "  </thead>\n",
       "  <tbody>\n",
       "    <tr>\n",
       "      <th>0</th>\n",
       "      <td>1</td>\n",
       "      <td>Illia Zabarnyi</td>\n",
       "      <td>Ukraine</td>\n",
       "      <td>DF</td>\n",
       "      <td>20.0</td>\n",
       "      <td>37.0</td>\n",
       "      <td>0.864865</td>\n",
       "      <td>0.783784</td>\n",
       "      <td>0.783784</td>\n",
       "      <td>0.027027</td>\n",
       "      <td>46.0</td>\n",
       "      <td>1.432432</td>\n",
       "      <td>0.891892</td>\n",
       "      <td>2.486486</td>\n",
       "      <td>3.864865</td>\n",
       "    </tr>\n",
       "    <tr>\n",
       "      <th>5</th>\n",
       "      <td>2</td>\n",
       "      <td>Marcos Senesi</td>\n",
       "      <td>Argentina</td>\n",
       "      <td>DF</td>\n",
       "      <td>26.0</td>\n",
       "      <td>24.9</td>\n",
       "      <td>1.285141</td>\n",
       "      <td>1.124498</td>\n",
       "      <td>0.923695</td>\n",
       "      <td>0.160643</td>\n",
       "      <td>42.9</td>\n",
       "      <td>2.008032</td>\n",
       "      <td>1.405622</td>\n",
       "      <td>3.614458</td>\n",
       "      <td>4.377510</td>\n",
       "    </tr>\n",
       "  </tbody>\n",
       "</table>\n",
       "</div>"
      ],
      "text/plain": [
       "   SN          Player     Nation Pos   Age   90s      TklW   Def 3rd  \\\n",
       "0   1  Illia Zabarnyi    Ukraine  DF  20.0  37.0  0.864865  0.783784   \n",
       "5   2   Marcos Senesi  Argentina  DF  26.0  24.9  1.285141  1.124498   \n",
       "\n",
       "    Mid 3rd   Att 3rd  Tkl%    Blocks       Int   Tkl+Int       Clr  \n",
       "0  0.783784  0.027027  46.0  1.432432  0.891892  2.486486  3.864865  \n",
       "5  0.923695  0.160643  42.9  2.008032  1.405622  3.614458  4.377510  "
      ]
     },
     "execution_count": 68,
     "metadata": {},
     "output_type": "execute_result"
    }
   ],
   "source": [
    "finaldf"
   ]
  },
  {
   "cell_type": "code",
   "execution_count": 70,
   "id": "2257006c-c8cd-4dc4-a199-7879efd24a36",
   "metadata": {},
   "outputs": [],
   "source": [
    "afcbfinaldata = finaldf"
   ]
  },
  {
   "cell_type": "code",
   "execution_count": 72,
   "id": "1b398c09-b634-4d6b-9bc1-f30ec4aa0067",
   "metadata": {},
   "outputs": [],
   "source": [
    "afcbfinaldata.to_excel(r'E:\\afcbfinaldata.xlsx', index=False)"
   ]
  }
 ],
 "metadata": {
  "kernelspec": {
   "display_name": "Python [conda env:base] *",
   "language": "python",
   "name": "conda-base-py"
  },
  "language_info": {
   "codemirror_mode": {
    "name": "ipython",
    "version": 3
   },
   "file_extension": ".py",
   "mimetype": "text/x-python",
   "name": "python",
   "nbconvert_exporter": "python",
   "pygments_lexer": "ipython3",
   "version": "3.12.7"
  }
 },
 "nbformat": 4,
 "nbformat_minor": 5
}
